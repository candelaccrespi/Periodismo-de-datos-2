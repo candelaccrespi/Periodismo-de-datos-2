{
 "cells": [
  {
   "cell_type": "markdown",
   "metadata": {},
   "source": [
    "# Práctica 4"
   ]
  },
  {
   "cell_type": "markdown",
   "metadata": {},
   "source": [
    "## Analizando los datos abiertos del Ayuntamiento de Alcobendas: Población. Empadronados organizados en totales y por grupos de edad y sexo. Histórico"
   ]
  },
  {
   "cell_type": "markdown",
   "metadata": {},
   "source": [
    "Data set (su traducción al español sería \"conjuntos de datos\") significa \"[una colección de datos separados de información que son tratados como una unidad total por el ordenador](https://dictionary.cambridge.org/es/diccionario/ingles/dataset) los cuales son  susceptibles de ser reutilizados (por sí solos o mezclados con otros datos) con el fin de crear servicios de interés para ciudadanos, empresas u organizaciones\" "
   ]
  },
  {
   "cell_type": "markdown",
   "metadata": {},
   "source": [
    "En la siguiente práctica se trabajará con el conjunto de valores obtenidos a partir del [portal de datos abiertos del gobierno](https://datos.gob.es/es/) que nos vincula con la [página web](https://www.alcobendas.org/es/ayuntamiento) del Ayuntamiento de Alcobendas. A través de la misma podemos acceder a un amplio conjunto de bases de datos en relación con su administración. Con esta plataforma el ayuntamiento quiere asegurar una buena política de transparencia ante la ciudadanía. Gracias a la licencia de uso (propiedad abierta) hemos podido acceder y descargar los datos para reutilizarlos en la presente práctica (en formato csv). En concreto a continuación vamos tratar valores relacionados con las personas empadronadas en la localidad.  \n"
   ]
  },
  {
   "cell_type": "markdown",
   "metadata": {},
   "source": [
    "Para analizar los datos seguiremos los pasos aprendidos en la práctica anterior. Profundizando y explorando nuevas formas de representación."
   ]
  },
  {
   "cell_type": "markdown",
   "metadata": {},
   "source": [
    "## Empadronados en Alcobendas"
   ]
  },
  {
   "cell_type": "markdown",
   "metadata": {},
   "source": [
    "Para poder trabajar en profundidad con los datos primero vamos a centrarnos en qué consiste un padrón y cuáles son los requisitos necesarios para poder empadronarse en este municipio"
   ]
  },
  {
   "cell_type": "markdown",
   "metadata": {},
   "source": [
    "El Padrón de Habitantes es el registro por el que se acredita la residencia y el domicilio a efectos administrativos de los vecinos de una localidad. Toda persona que viva en España debe estar inscrita en el padrón de su municipio de residencia habitual. "
   ]
  },
  {
   "cell_type": "markdown",
   "metadata": {},
   "source": [
    "Los menores no emancipados o personas dependientes deben figurar empadronadas en el domicilio de sus padres o representantes legales. La inscripción en el padrón de los recién nacidos se realiza a través del Registro Civil."
   ]
  },
  {
   "cell_type": "markdown",
   "metadata": {},
   "source": [
    "Para poder aparecer en el padrón se deben presentar los documentos requeridos, los cuales variarán según el solicitante (persona mayor de edad, padres con hijos menores, establecimientos colectivos como conventos...) El plazo máximo para resolver el empadronamiento son los tres meses posteriores a la solicitud."
   ]
  },
  {
   "cell_type": "markdown",
   "metadata": {},
   "source": [
    "## Configuración de pandas y folium"
   ]
  },
  {
   "cell_type": "markdown",
   "metadata": {},
   "source": [
    "Lo primero es configurar el lenguaje Pandas usándolo como pd. Como se explicó en la práctica anterior, Pandas es una librería especializada en el manejo y análisis de de datos que nos permite trabajar con diferentes tipos de estructuras "
   ]
  },
  {
   "cell_type": "code",
   "execution_count": 1,
   "metadata": {},
   "outputs": [],
   "source": [
    "import pandas as pd"
   ]
  },
  {
   "cell_type": "markdown",
   "metadata": {},
   "source": [
    "También tenemos que instalar el folium (un folium es una biblioteca, una herramienta de visualización que permite la concepción de mapas interactivos). En el caso de esta práctica en concreto no nos interesa especialmente la representación por mapas ya que estamos trabajando con datos demográficos de un punto cardila singular "
   ]
  },
  {
   "cell_type": "code",
   "execution_count": 2,
   "metadata": {},
   "outputs": [
    {
     "name": "stdout",
     "output_type": "stream",
     "text": [
      "Requirement already satisfied: folium in ./.local/lib/python3.8/site-packages (0.12.1.post1)\n",
      "Requirement already satisfied: jinja2>=2.9 in /usr/lib/python3/dist-packages (from folium) (2.10.1)\n",
      "Requirement already satisfied: numpy in /usr/local/lib/python3.8/dist-packages (from folium) (1.21.1)\n",
      "Requirement already satisfied: requests in /usr/local/lib/python3.8/dist-packages (from folium) (2.25.0)\n",
      "Requirement already satisfied: branca>=0.3.0 in ./.local/lib/python3.8/site-packages (from folium) (0.5.0)\n",
      "Requirement already satisfied: idna<3,>=2.5 in /usr/lib/python3/dist-packages (from requests->folium) (2.8)\n",
      "Requirement already satisfied: certifi>=2017.4.17 in /usr/local/lib/python3.8/dist-packages (from requests->folium) (2020.6.20)\n",
      "Requirement already satisfied: chardet<4,>=3.0.2 in /usr/lib/python3/dist-packages (from requests->folium) (3.0.4)\n",
      "Requirement already satisfied: urllib3<1.27,>=1.21.1 in /usr/lib/python3/dist-packages (from requests->folium) (1.25.8)\n"
     ]
    }
   ],
   "source": [
    "!pip install folium "
   ]
  },
  {
   "cell_type": "code",
   "execution_count": 3,
   "metadata": {},
   "outputs": [
    {
     "name": "stdout",
     "output_type": "stream",
     "text": [
      "Requirement already satisfied: pandas in /usr/local/lib/python3.8/dist-packages (1.3.1)\r\n",
      "Requirement already satisfied: python-dateutil>=2.7.3 in /usr/local/lib/python3.8/dist-packages (from pandas) (2.8.1)\r\n",
      "Requirement already satisfied: numpy>=1.17.3 in /usr/local/lib/python3.8/dist-packages (from pandas) (1.21.1)\r\n",
      "Requirement already satisfied: pytz>=2017.3 in /usr/local/lib/python3.8/dist-packages (from pandas) (2020.4)\r\n",
      "Requirement already satisfied: six>=1.5 in /usr/lib/python3/dist-packages (from python-dateutil>=2.7.3->pandas) (1.14.0)\r\n"
     ]
    }
   ],
   "source": [
    "!pip install pandas"
   ]
  },
  {
   "cell_type": "code",
   "execution_count": 4,
   "metadata": {},
   "outputs": [],
   "source": [
    "import pandas as pd\n",
    "import folium"
   ]
  },
  {
   "cell_type": "markdown",
   "metadata": {},
   "source": [
    "## Creamos la variable"
   ]
  },
  {
   "cell_type": "markdown",
   "metadata": {},
   "source": [
    "Los datos los hemos obtenido a través de una [URL](https://datos.alcobendas.org/dataset/poblacion-empadronados-totales-y-grupos-de-edad-y-sexo-historico) de la que hemos descargado su correspondiente archivo en csv "
   ]
  },
  {
   "cell_type": "markdown",
   "metadata": {},
   "source": [
    "Las variables se asignan con el símbolo `=` y la url se escribe entre comillas porque es una cadena de caracteres (string). En la función utilizaremos la abreviatura \"alco\" refiriéndonos a alcobendas."
   ]
  },
  {
   "cell_type": "code",
   "execution_count": null,
   "metadata": {},
   "outputs": [],
   "source": [
    "url_alco = 'https://datos.alcobendas.org/dataset/d8710e65-fe6b-449e-a8e7-26c58e6f7326/resource/826375e4-e7f5-4627-9f16-978d0a0ad5dc/download/poblacion-de-alcobendas.-historiconueva-version.csv'"
   ]
  },
  {
   "cell_type": "markdown",
   "metadata": {},
   "source": [
    "## Crear DataFrame"
   ]
  },
  {
   "cell_type": "markdown",
   "metadata": {},
   "source": [
    "El DataFrame se define como `df`. A lo que añadiremos `pd` porque es como hemos nombrado a Pandas (biblioteca de python que tenemos ya instalada). Seguido de `read_csv` que es la parte de la función que nos permite leer archivos en csv (Excel). Entre paréntesis se encuentra el valor que queremos que lea. En este caso la url con los datos del padrón de Alcobendas que ya ha sido previamente definida como una variable."
   ]
  },
  {
   "cell_type": "code",
   "execution_count": 13,
   "metadata": {},
   "outputs": [],
   "source": [
    "df = pd.read_csv(url_alco)"
   ]
  },
  {
   "cell_type": "code",
   "execution_count": 14,
   "metadata": {
    "scrolled": true
   },
   "outputs": [
    {
     "data": {
      "text/html": [
       "<div>\n",
       "<style scoped>\n",
       "    .dataframe tbody tr th:only-of-type {\n",
       "        vertical-align: middle;\n",
       "    }\n",
       "\n",
       "    .dataframe tbody tr th {\n",
       "        vertical-align: top;\n",
       "    }\n",
       "\n",
       "    .dataframe thead th {\n",
       "        text-align: right;\n",
       "    }\n",
       "</style>\n",
       "<table border=\"1\" class=\"dataframe\">\n",
       "  <thead>\n",
       "    <tr style=\"text-align: right;\">\n",
       "      <th></th>\n",
       "      <th>Año</th>\n",
       "      <th>Intervalo</th>\n",
       "      <th>Hombres</th>\n",
       "      <th>Mujeres</th>\n",
       "      <th>Total</th>\n",
       "    </tr>\n",
       "  </thead>\n",
       "  <tbody>\n",
       "    <tr>\n",
       "      <th>0</th>\n",
       "      <td>1998</td>\n",
       "      <td>0-4 años</td>\n",
       "      <td>2261</td>\n",
       "      <td>2194</td>\n",
       "      <td>4455</td>\n",
       "    </tr>\n",
       "    <tr>\n",
       "      <th>1</th>\n",
       "      <td>1998</td>\n",
       "      <td>5-9 años</td>\n",
       "      <td>2520</td>\n",
       "      <td>2336</td>\n",
       "      <td>4856</td>\n",
       "    </tr>\n",
       "    <tr>\n",
       "      <th>2</th>\n",
       "      <td>1998</td>\n",
       "      <td>10-14 años</td>\n",
       "      <td>2894</td>\n",
       "      <td>2759</td>\n",
       "      <td>5653</td>\n",
       "    </tr>\n",
       "    <tr>\n",
       "      <th>3</th>\n",
       "      <td>1998</td>\n",
       "      <td>15-19 años</td>\n",
       "      <td>3756</td>\n",
       "      <td>3713</td>\n",
       "      <td>7469</td>\n",
       "    </tr>\n",
       "    <tr>\n",
       "      <th>4</th>\n",
       "      <td>1998</td>\n",
       "      <td>20-24 años</td>\n",
       "      <td>4977</td>\n",
       "      <td>4672</td>\n",
       "      <td>9649</td>\n",
       "    </tr>\n",
       "    <tr>\n",
       "      <th>...</th>\n",
       "      <td>...</td>\n",
       "      <td>...</td>\n",
       "      <td>...</td>\n",
       "      <td>...</td>\n",
       "      <td>...</td>\n",
       "    </tr>\n",
       "    <tr>\n",
       "      <th>435</th>\n",
       "      <td>2017</td>\n",
       "      <td>85-89 años</td>\n",
       "      <td>417</td>\n",
       "      <td>735</td>\n",
       "      <td>1152</td>\n",
       "    </tr>\n",
       "    <tr>\n",
       "      <th>436</th>\n",
       "      <td>2017</td>\n",
       "      <td>90-94 años</td>\n",
       "      <td>146</td>\n",
       "      <td>398</td>\n",
       "      <td>544</td>\n",
       "    </tr>\n",
       "    <tr>\n",
       "      <th>437</th>\n",
       "      <td>2017</td>\n",
       "      <td>95-99 años</td>\n",
       "      <td>22</td>\n",
       "      <td>114</td>\n",
       "      <td>136</td>\n",
       "    </tr>\n",
       "    <tr>\n",
       "      <th>438</th>\n",
       "      <td>2017</td>\n",
       "      <td>Más de 100 años</td>\n",
       "      <td>5</td>\n",
       "      <td>27</td>\n",
       "      <td>32</td>\n",
       "    </tr>\n",
       "    <tr>\n",
       "      <th>439</th>\n",
       "      <td>2017</td>\n",
       "      <td>Total</td>\n",
       "      <td>55206</td>\n",
       "      <td>59658</td>\n",
       "      <td>114864</td>\n",
       "    </tr>\n",
       "  </tbody>\n",
       "</table>\n",
       "<p>440 rows × 5 columns</p>\n",
       "</div>"
      ],
      "text/plain": [
       "      Año        Intervalo  Hombres  Mujeres   Total\n",
       "0    1998         0-4 años     2261     2194    4455\n",
       "1    1998         5-9 años     2520     2336    4856\n",
       "2    1998       10-14 años     2894     2759    5653\n",
       "3    1998       15-19 años     3756     3713    7469\n",
       "4    1998       20-24 años     4977     4672    9649\n",
       "..    ...              ...      ...      ...     ...\n",
       "435  2017       85-89 años      417      735    1152\n",
       "436  2017       90-94 años      146      398     544\n",
       "437  2017       95-99 años       22      114     136\n",
       "438  2017  Más de 100 años        5       27      32\n",
       "439  2017          Total      55206    59658  114864\n",
       "\n",
       "[440 rows x 5 columns]"
      ]
     },
     "execution_count": 14,
     "metadata": {},
     "output_type": "execute_result"
    }
   ],
   "source": [
    "df"
   ]
  },
  {
   "cell_type": "markdown",
   "metadata": {},
   "source": [
    "Se ha generado como vemos una tabla, un dataframe (una estructura de datos con varias dimensiones en la que se puede guardar valores de distintos tipos organizados en columnas) de Python, que proviene del csv obtenido de la página web del ayuntamiento. La tabla está conformada por cinco columnas de datos más la columna de control de Pandas (columna índice). A simple viste podemos obtener información por grupos de edad del número de mujeres y hombres residentes en acolbendas a lo largo de los últimos veinticuatro años."
   ]
  },
  {
   "cell_type": "markdown",
   "metadata": {},
   "source": [
    "## Explorar la información de la tabla"
   ]
  },
  {
   "cell_type": "markdown",
   "metadata": {},
   "source": [
    "Como se ha dicho previamente cinco de las seis columnas de la tabla nos aportan información relevante a los datos extraídos de la url. Para poder jugar con estos valores y explorarlos utilizaremos dos funciones: `df_alco.info()` para obtener información general del DataFrame o `df_alco.columns` cuando queramos conocer específica las características de una de las columnas que conforma la tabla."
   ]
  },
  {
   "cell_type": "code",
   "execution_count": 15,
   "metadata": {},
   "outputs": [
    {
     "name": "stdout",
     "output_type": "stream",
     "text": [
      "<class 'pandas.core.frame.DataFrame'>\n",
      "RangeIndex: 440 entries, 0 to 439\n",
      "Data columns (total 5 columns):\n",
      " #   Column     Non-Null Count  Dtype \n",
      "---  ------     --------------  ----- \n",
      " 0   Año        440 non-null    int64 \n",
      " 1   Intervalo  440 non-null    object\n",
      " 2   Hombres    440 non-null    int64 \n",
      " 3   Mujeres    440 non-null    int64 \n",
      " 4   Total      440 non-null    int64 \n",
      "dtypes: int64(4), object(1)\n",
      "memory usage: 17.3+ KB\n"
     ]
    }
   ],
   "source": [
    "df_alco.info()"
   ]
  },
  {
   "cell_type": "markdown",
   "metadata": {},
   "source": [
    "A través de esta función conocemos todas las variables de nuestros datos: año, intervalo, género, total... Es una forma muy útil de tener desgranada la vasta cantidad de información que se nos presenta para poder así decidir cuáles utilizaremos y de qué manera"
   ]
  },
  {
   "cell_type": "code",
   "execution_count": 20,
   "metadata": {},
   "outputs": [
    {
     "data": {
      "text/plain": [
       "Index(['Año', 'Intervalo', 'Hombres', 'Mujeres', 'Total'], dtype='object')"
      ]
     },
     "execution_count": 20,
     "metadata": {},
     "output_type": "execute_result"
    }
   ],
   "source": [
    "df_alco.columns"
   ]
  },
  {
   "cell_type": "markdown",
   "metadata": {},
   "source": [
    "En el caso de querer conocer el valor concreto de una columna tenemos que utilizar la función `df_alco['nombre de la columna']`. Por ejemplo, a continuación exploraremos los valores correspondientes a la columna de mujeres y de hombres en dos apartados diferenciados gracias a esta función (lo que nos permitirá trabajar más fácilmente con ellos)."
   ]
  },
  {
   "cell_type": "code",
   "execution_count": 18,
   "metadata": {},
   "outputs": [
    {
     "data": {
      "text/plain": [
       "0       2194\n",
       "1       2336\n",
       "2       2759\n",
       "3       3713\n",
       "4       4672\n",
       "       ...  \n",
       "435      735\n",
       "436      398\n",
       "437      114\n",
       "438       27\n",
       "439    59658\n",
       "Name: Mujeres, Length: 440, dtype: int64"
      ]
     },
     "execution_count": 18,
     "metadata": {},
     "output_type": "execute_result"
    }
   ],
   "source": [
    "df_alco['Mujeres']"
   ]
  },
  {
   "cell_type": "code",
   "execution_count": 58,
   "metadata": {},
   "outputs": [
    {
     "data": {
      "text/plain": [
       "0             0-4 años\n",
       "1             5-9 años\n",
       "2           10-14 años\n",
       "3           15-19 años\n",
       "4           20-24 años\n",
       "            ...       \n",
       "435         85-89 años\n",
       "436         90-94 años\n",
       "437         95-99 años\n",
       "438    Más de 100 años\n",
       "439            Total  \n",
       "Name: Intervalo, Length: 440, dtype: object"
      ]
     },
     "execution_count": 58,
     "metadata": {},
     "output_type": "execute_result"
    }
   ],
   "source": [
    "df_alco['Intervalo']"
   ]
  },
  {
   "cell_type": "markdown",
   "metadata": {},
   "source": [
    "Acabamos de elegir las columnas con las que vamos a trabajar: mujeres y años. Por medio de set index fijamos una de las columnas del DataFrame como índice, en nuestro caso marcaremos \"años\" como tal, cuyos valores sustirán a la columna índice de Pandas. Lo conseguiremos gracias a la función: `df_alco.set_idex`"
   ]
  },
  {
   "cell_type": "code",
   "execution_count": 57,
   "metadata": {},
   "outputs": [
    {
     "data": {
      "text/html": [
       "<div>\n",
       "<style scoped>\n",
       "    .dataframe tbody tr th:only-of-type {\n",
       "        vertical-align: middle;\n",
       "    }\n",
       "\n",
       "    .dataframe tbody tr th {\n",
       "        vertical-align: top;\n",
       "    }\n",
       "\n",
       "    .dataframe thead th {\n",
       "        text-align: right;\n",
       "    }\n",
       "</style>\n",
       "<table border=\"1\" class=\"dataframe\">\n",
       "  <thead>\n",
       "    <tr style=\"text-align: right;\">\n",
       "      <th></th>\n",
       "      <th>Año</th>\n",
       "      <th>Hombres</th>\n",
       "      <th>Mujeres</th>\n",
       "      <th>Total</th>\n",
       "    </tr>\n",
       "    <tr>\n",
       "      <th>Intervalo</th>\n",
       "      <th></th>\n",
       "      <th></th>\n",
       "      <th></th>\n",
       "      <th></th>\n",
       "    </tr>\n",
       "  </thead>\n",
       "  <tbody>\n",
       "    <tr>\n",
       "      <th>0-4 años</th>\n",
       "      <td>1998</td>\n",
       "      <td>2261</td>\n",
       "      <td>2194</td>\n",
       "      <td>4455</td>\n",
       "    </tr>\n",
       "    <tr>\n",
       "      <th>5-9 años</th>\n",
       "      <td>1998</td>\n",
       "      <td>2520</td>\n",
       "      <td>2336</td>\n",
       "      <td>4856</td>\n",
       "    </tr>\n",
       "    <tr>\n",
       "      <th>10-14 años</th>\n",
       "      <td>1998</td>\n",
       "      <td>2894</td>\n",
       "      <td>2759</td>\n",
       "      <td>5653</td>\n",
       "    </tr>\n",
       "    <tr>\n",
       "      <th>15-19 años</th>\n",
       "      <td>1998</td>\n",
       "      <td>3756</td>\n",
       "      <td>3713</td>\n",
       "      <td>7469</td>\n",
       "    </tr>\n",
       "    <tr>\n",
       "      <th>20-24 años</th>\n",
       "      <td>1998</td>\n",
       "      <td>4977</td>\n",
       "      <td>4672</td>\n",
       "      <td>9649</td>\n",
       "    </tr>\n",
       "    <tr>\n",
       "      <th>...</th>\n",
       "      <td>...</td>\n",
       "      <td>...</td>\n",
       "      <td>...</td>\n",
       "      <td>...</td>\n",
       "    </tr>\n",
       "    <tr>\n",
       "      <th>85-89 años</th>\n",
       "      <td>2017</td>\n",
       "      <td>417</td>\n",
       "      <td>735</td>\n",
       "      <td>1152</td>\n",
       "    </tr>\n",
       "    <tr>\n",
       "      <th>90-94 años</th>\n",
       "      <td>2017</td>\n",
       "      <td>146</td>\n",
       "      <td>398</td>\n",
       "      <td>544</td>\n",
       "    </tr>\n",
       "    <tr>\n",
       "      <th>95-99 años</th>\n",
       "      <td>2017</td>\n",
       "      <td>22</td>\n",
       "      <td>114</td>\n",
       "      <td>136</td>\n",
       "    </tr>\n",
       "    <tr>\n",
       "      <th>Más de 100 años</th>\n",
       "      <td>2017</td>\n",
       "      <td>5</td>\n",
       "      <td>27</td>\n",
       "      <td>32</td>\n",
       "    </tr>\n",
       "    <tr>\n",
       "      <th>Total</th>\n",
       "      <td>2017</td>\n",
       "      <td>55206</td>\n",
       "      <td>59658</td>\n",
       "      <td>114864</td>\n",
       "    </tr>\n",
       "  </tbody>\n",
       "</table>\n",
       "<p>440 rows × 4 columns</p>\n",
       "</div>"
      ],
      "text/plain": [
       "                  Año  Hombres  Mujeres   Total\n",
       "Intervalo                                      \n",
       " 0-4 años        1998     2261     2194    4455\n",
       " 5-9 años        1998     2520     2336    4856\n",
       " 10-14 años      1998     2894     2759    5653\n",
       " 15-19 años      1998     3756     3713    7469\n",
       " 20-24 años      1998     4977     4672    9649\n",
       "...               ...      ...      ...     ...\n",
       "85-89 años       2017      417      735    1152\n",
       "90-94 años       2017      146      398     544\n",
       "95-99 años       2017       22      114     136\n",
       "Más de 100 años  2017        5       27      32\n",
       "Total            2017    55206    59658  114864\n",
       "\n",
       "[440 rows x 4 columns]"
      ]
     },
     "execution_count": 57,
     "metadata": {},
     "output_type": "execute_result"
    }
   ],
   "source": [
    "df_alco.set_index('Intervalo')"
   ]
  },
  {
   "cell_type": "markdown",
   "metadata": {},
   "source": [
    "Nuestro propósito es acabar por crear un gráfico con los valores 'años' y 'mujeres', por lo que precisamos de una tabla que cuente con tan solo dos columnas (años y mujeres). Utilizaremos la función `df_alco.set_index`que sería el comando de agrupando en dos columnas."
   ]
  },
  {
   "cell_type": "code",
   "execution_count": 56,
   "metadata": {},
   "outputs": [
    {
     "data": {
      "text/plain": [
       "Intervalo\n",
       " 0-4 años           2194\n",
       " 5-9 años           2336\n",
       " 10-14 años         2759\n",
       " 15-19 años         3713\n",
       " 20-24 años         4672\n",
       "                   ...  \n",
       "85-89 años           735\n",
       "90-94 años           398\n",
       "95-99 años           114\n",
       "Más de 100 años       27\n",
       "Total              59658\n",
       "Name: Mujeres, Length: 440, dtype: int64"
      ]
     },
     "execution_count": 56,
     "metadata": {},
     "output_type": "execute_result"
    }
   ],
   "source": [
    "df_alco.set_index('Intervalo')['Mujeres']"
   ]
  },
  {
   "cell_type": "markdown",
   "metadata": {},
   "source": [
    "## Crear tablas"
   ]
  },
  {
   "cell_type": "markdown",
   "metadata": {},
   "source": [
    "A la fórmula anterior le añadiremos 'plot' para crear un gráfico y un título a la vez: `df.set_index('Año')['Mujeres'].plot(title=...)`"
   ]
  },
  {
   "cell_type": "code",
   "execution_count": 55,
   "metadata": {},
   "outputs": [
    {
     "data": {
      "text/plain": [
       "<AxesSubplot:title={'center':'Número de mujeres en Alcobendas a lo largo de los años'}, xlabel='Intervalo'>"
      ]
     },
     "execution_count": 55,
     "metadata": {},
     "output_type": "execute_result"
    },
    {
     "data": {
      "image/png": "[encoded data removed]",
      "text/plain": [
       "<Figure size 432x288 with 1 Axes>"
      ]
     },
     "metadata": {
      "needs_background": "light"
     },
     "output_type": "display_data"
    }
   ],
   "source": [
    "df.set_index('Intervalo')['Mujeres'].plot(title='Número de mujeres en Alcobendas a lo largo de los años')"
   ]
  },
  {
   "cell_type": "code",
   "execution_count": 59,
   "metadata": {},
   "outputs": [
    {
     "data": {
      "text/plain": [
       "array([ 2194,  2336,  2759,  3713,  4672,  3983,  3750,  3382,  3289,\n",
       "        3752,  3205,  1843,  1444,  1098,   893,   627,   443,   218,\n",
       "          80,     9,     1, 43691,  2198,  2300,  2632,  3400,  4709,\n",
       "        4225,  3837,  3594,  3201,  3635,  3538,  2097,  1437,  1196,\n",
       "         949,   673,   461,   293,    95,    22, 44493,  2047,  2344,\n",
       "        2606,  3264,  4676,  4531,  3970,  3820,  3275,  3520,  3642,\n",
       "        2370,  1433,  1243,   989,   713,   474,   334,   118,     3,\n",
       "       45394,  2301,  2427,  2594,  3119,  4505,  4804,  4174,  4080,\n",
       "        3445,  3466,  3762,  2516,  1620,  1300,  1032,   814,   477,\n",
       "         383,   136,    34,     5, 46994,  2395,  2549,  2540,  3034,\n",
       "        4250,  5033,  4373,  4353,  3565,  3547,  3778,  2833,  1696,\n",
       "        1385,  1054,   846,   518,   402,   158,    39,     8, 48356,\n",
       "        2545,  2597,  2613,  3063,  4220,  5119,  4640,  4482,  3817,\n",
       "        3546,  3825,  3207,  1836,  1436,  1122,   866,   574,   393,\n",
       "          36, 50100,  2765,  2675,  2684,  2931,  3943,  5308,  4778,\n",
       "        4581,  4051,  3483,  3646,  3470,  2048,  1419,  1198,   913,\n",
       "         619,   207,     4, 51155,  2814,  2757,  2698,  2847,  3892,\n",
       "        5409,  5173,  4744,  4357,  3555,  3615,  2357,  1430,  1234,\n",
       "         981,   661,   404,   230,    53, 52761,  3086,  2726,  2723,\n",
       "        2801,  3659,  5182,  5374,  4817,  4486,  3629,  3490,  3682,\n",
       "        2421,  1592,  1245,   986,   737,   394,   240,    54, 53327,\n",
       "        3010,  2741,  2820,  2764,  4930,  5708,  5013,  4737,  3689,\n",
       "        3534,  3616,  2718,  1651,  1304,  1010,   752,   423,   237,\n",
       "          55, 54358,  2875,  2841,  2889,  3588,  4775,  5589,  4857,\n",
       "        3866,  3481,  3664,  3031,  1767,  1361,  1052,   769,   467,\n",
       "         222,    69, 55145,  2927,  2909,  2898,  3519,  4589,  5474,\n",
       "        5279,  4956,  4156,  3472,  3537,  3309,  1978,  1359,  1151,\n",
       "         820,   494,   221,    85,    10, 55963,  2976,  3011,  2864,\n",
       "        2853,  3346,  5380,  5441,  4982,  4417,  3527,  3430,  3439,\n",
       "        2235,  1362,  1182,   857,   537,    83,    18, 56659,  2957,\n",
       "        2989,  2832,  2803,  3179,  4264,  5211,  5463,  5006,  4502,\n",
       "        3576,  3392,  3498,  2311,  1541,  1200,   891,   572,   258,\n",
       "          78,    15, 56538,  3009,  3066,  2830,  2860,  3116,  4130,\n",
       "        5021,  5513,  5160,  4637,  3688,  3415,  3492,  2611,  1591,\n",
       "        1270,   907,   608,   275,    88,    17, 57304,  3048,  3123,\n",
       "        2878,  3070,  3949,  4860,  5539,  5290,  4748,  3776,  3365,\n",
       "        3510,  1702,  1284,   965,   635,   313,    99, 57951,  2993,\n",
       "        3225,  2813,  3703,  4668,  5506,  5255,  4818,  3956,  3320,\n",
       "        3367,  3196,  1890,  1280,  1030,   662,   321,   103, 58049,\n",
       "        3226,  2987,  2868,  3030,  3509,  4448,  5410,  5452,  4838,\n",
       "        4194,  3364,  3288,  3298,  2129,  1070,   705,   326,   111,\n",
       "       58508,  3234,  3007,  2910,  2991,  3387,  4197,  5256,  5451,\n",
       "        4887,  3432,  3260,  3371,  2256,  1454,  1075,   746,   382,\n",
       "         107, 58709,  2984,  3128,  2920,  3092,  3351,  4028,  5087,\n",
       "        5600,  5069,  4466,  3524,  3292,  3356,  2536,  1527,  1149,\n",
       "         735,   398,   114,    27, 59658])"
      ]
     },
     "execution_count": 59,
     "metadata": {},
     "output_type": "execute_result"
    }
   ],
   "source": [
    "df.set_index('Intervalo')['Mujeres'].unique()"
   ]
  },
  {
   "cell_type": "code",
   "execution_count": 60,
   "metadata": {},
   "outputs": [
    {
     "data": {
      "text/plain": [
       "<AxesSubplot:title={'center':'Número'}, xlabel='Intervalo'>"
      ]
     },
     "execution_count": 60,
     "metadata": {},
     "output_type": "execute_result"
    },
    {
     "data": {
      "image/png": "[encoded data removed]",
      "text/plain": [
       "<Figure size 432x288 with 1 Axes>"
      ]
     },
     "metadata": {
      "needs_background": "light"
     },
     "output_type": "display_data"
    }
   ],
   "source": [
    "df.set_index('Intervalo')['Mujeres'].plot(title='Número')"
   ]
  },
  {
   "cell_type": "markdown",
   "metadata": {},
   "source": [
    "Acabamos de probar no hay cambios significativos en la elaboración del gráfico al abarcar todos los datos o seleccionarlos sin su reiteración."
   ]
  },
  {
   "cell_type": "markdown",
   "metadata": {},
   "source": [
    "## Otro tipo de gráficos"
   ]
  },
  {
   "cell_type": "markdown",
   "metadata": {},
   "source": [
    "### Gráfico de dispersión"
   ]
  },
  {
   "cell_type": "code",
   "execution_count": 61,
   "metadata": {},
   "outputs": [
    {
     "data": {
      "text/plain": [
       "<AxesSubplot:xlabel='Intervalo', ylabel='Mujeres'>"
      ]
     },
     "execution_count": 61,
     "metadata": {},
     "output_type": "execute_result"
    },
    {
     "data": {
      "image/png": "[encoded data removed]",
      "text/plain": [
       "<Figure size 432x288 with 1 Axes>"
      ]
     },
     "metadata": {
      "needs_background": "light"
     },
     "output_type": "display_data"
    }
   ],
   "source": [
    "df = pd.read_csv('https://datos.alcobendas.org/dataset/d8710e65-fe6b-449e-a8e7-26c58e6f7326/resource/826375e4-e7f5-4627-9f16-978d0a0ad5dc/download/poblacion-de-alcobendas.-historiconueva-version.csv')\n",
    "df.plot(kind = 'scatter', x = 'Intervalo', y = 'Mujeres')"
   ]
  },
  {
   "cell_type": "markdown",
   "metadata": {},
   "source": [
    "Los dos gráficos que hemos hecho hasta ahora no nos son especialmente útiles porque las variables se acumulan. "
   ]
  },
  {
   "cell_type": "markdown",
   "metadata": {},
   "source": [
    "### Gráfico de barras"
   ]
  },
  {
   "cell_type": "markdown",
   "metadata": {},
   "source": [
    "Según el [Instituto Nacional de Estadística (INE)](https://www.ine.es/explica/docs/pasos_tipos_graficos.pdf) los gráficos de barras son una \"representación gráfica en un eje cartesiano de las frecuencias de una variable cualitativa o discreta. En uno de los ejes se posicionan las distintas categorías o modalidades de la variable cualitativa o discreta y en el otro el valor o frecuencia de cada categoría en una determinada escala\"."
   ]
  },
  {
   "cell_type": "markdown",
   "metadata": {},
   "source": [
    "Para representar datos relacionados con los índices de población la gráfica de barras es interesante ya que nos permite realizar comparativas de forma rápida. A continuación vamos a intentar generar un gráfico de barras con la variable 'Mujeres' en relación a los grupos de edad por 'Intervalos'."
   ]
  },
  {
   "cell_type": "code",
   "execution_count": 63,
   "metadata": {},
   "outputs": [
    {
     "ename": "TypeError",
     "evalue": "no numeric data to plot",
     "output_type": "error",
     "traceback": [
      "\u001b[0;31m---------------------------------------------------------------------------\u001b[0m",
      "\u001b[0;31mTypeError\u001b[0m                                 Traceback (most recent call last)",
      "\u001b[0;32m<ipython-input-63-08e936f4064a>\u001b[0m in \u001b[0;36m<module>\u001b[0;34m\u001b[0m\n\u001b[0;32m----> 1\u001b[0;31m \u001b[0mdf\u001b[0m\u001b[0;34m[\u001b[0m\u001b[0;34m\"Intervalo\"\u001b[0m\u001b[0;34m]\u001b[0m\u001b[0;34m.\u001b[0m\u001b[0mplot\u001b[0m\u001b[0;34m(\u001b[0m\u001b[0mkind\u001b[0m \u001b[0;34m=\u001b[0m \u001b[0;34m'hist'\u001b[0m\u001b[0;34m,\u001b[0m \u001b[0mx\u001b[0m \u001b[0;34m=\u001b[0m \u001b[0;34m'Mujeres'\u001b[0m\u001b[0;34m,\u001b[0m \u001b[0my\u001b[0m \u001b[0;34m=\u001b[0m \u001b[0;34m'Intervalo'\u001b[0m\u001b[0;34m)\u001b[0m\u001b[0;34m\u001b[0m\u001b[0;34m\u001b[0m\u001b[0m\n\u001b[0m",
      "\u001b[0;32m/usr/local/lib/python3.8/dist-packages/pandas/plotting/_core.py\u001b[0m in \u001b[0;36m__call__\u001b[0;34m(self, *args, **kwargs)\u001b[0m\n\u001b[1;32m    970\u001b[0m                     \u001b[0mdata\u001b[0m\u001b[0;34m.\u001b[0m\u001b[0mcolumns\u001b[0m \u001b[0;34m=\u001b[0m \u001b[0mlabel_name\u001b[0m\u001b[0;34m\u001b[0m\u001b[0;34m\u001b[0m\u001b[0m\n\u001b[1;32m    971\u001b[0m \u001b[0;34m\u001b[0m\u001b[0m\n\u001b[0;32m--> 972\u001b[0;31m         \u001b[0;32mreturn\u001b[0m \u001b[0mplot_backend\u001b[0m\u001b[0;34m.\u001b[0m\u001b[0mplot\u001b[0m\u001b[0;34m(\u001b[0m\u001b[0mdata\u001b[0m\u001b[0;34m,\u001b[0m \u001b[0mkind\u001b[0m\u001b[0;34m=\u001b[0m\u001b[0mkind\u001b[0m\u001b[0;34m,\u001b[0m \u001b[0;34m**\u001b[0m\u001b[0mkwargs\u001b[0m\u001b[0;34m)\u001b[0m\u001b[0;34m\u001b[0m\u001b[0;34m\u001b[0m\u001b[0m\n\u001b[0m\u001b[1;32m    973\u001b[0m \u001b[0;34m\u001b[0m\u001b[0m\n\u001b[1;32m    974\u001b[0m     \u001b[0m__call__\u001b[0m\u001b[0;34m.\u001b[0m\u001b[0m__doc__\u001b[0m \u001b[0;34m=\u001b[0m \u001b[0m__doc__\u001b[0m\u001b[0;34m\u001b[0m\u001b[0;34m\u001b[0m\u001b[0m\n",
      "\u001b[0;32m/usr/local/lib/python3.8/dist-packages/pandas/plotting/_matplotlib/__init__.py\u001b[0m in \u001b[0;36mplot\u001b[0;34m(data, kind, **kwargs)\u001b[0m\n\u001b[1;32m     69\u001b[0m             \u001b[0mkwargs\u001b[0m\u001b[0;34m[\u001b[0m\u001b[0;34m\"ax\"\u001b[0m\u001b[0;34m]\u001b[0m \u001b[0;34m=\u001b[0m \u001b[0mgetattr\u001b[0m\u001b[0;34m(\u001b[0m\u001b[0max\u001b[0m\u001b[0;34m,\u001b[0m \u001b[0;34m\"left_ax\"\u001b[0m\u001b[0;34m,\u001b[0m \u001b[0max\u001b[0m\u001b[0;34m)\u001b[0m\u001b[0;34m\u001b[0m\u001b[0;34m\u001b[0m\u001b[0m\n\u001b[1;32m     70\u001b[0m     \u001b[0mplot_obj\u001b[0m \u001b[0;34m=\u001b[0m \u001b[0mPLOT_CLASSES\u001b[0m\u001b[0;34m[\u001b[0m\u001b[0mkind\u001b[0m\u001b[0;34m]\u001b[0m\u001b[0;34m(\u001b[0m\u001b[0mdata\u001b[0m\u001b[0;34m,\u001b[0m \u001b[0;34m**\u001b[0m\u001b[0mkwargs\u001b[0m\u001b[0;34m)\u001b[0m\u001b[0;34m\u001b[0m\u001b[0;34m\u001b[0m\u001b[0m\n\u001b[0;32m---> 71\u001b[0;31m     \u001b[0mplot_obj\u001b[0m\u001b[0;34m.\u001b[0m\u001b[0mgenerate\u001b[0m\u001b[0;34m(\u001b[0m\u001b[0;34m)\u001b[0m\u001b[0;34m\u001b[0m\u001b[0;34m\u001b[0m\u001b[0m\n\u001b[0m\u001b[1;32m     72\u001b[0m     \u001b[0mplot_obj\u001b[0m\u001b[0;34m.\u001b[0m\u001b[0mdraw\u001b[0m\u001b[0;34m(\u001b[0m\u001b[0;34m)\u001b[0m\u001b[0;34m\u001b[0m\u001b[0;34m\u001b[0m\u001b[0m\n\u001b[1;32m     73\u001b[0m     \u001b[0;32mreturn\u001b[0m \u001b[0mplot_obj\u001b[0m\u001b[0;34m.\u001b[0m\u001b[0mresult\u001b[0m\u001b[0;34m\u001b[0m\u001b[0;34m\u001b[0m\u001b[0m\n",
      "\u001b[0;32m/usr/local/lib/python3.8/dist-packages/pandas/plotting/_matplotlib/core.py\u001b[0m in \u001b[0;36mgenerate\u001b[0;34m(self)\u001b[0m\n\u001b[1;32m    284\u001b[0m     \u001b[0;32mdef\u001b[0m \u001b[0mgenerate\u001b[0m\u001b[0;34m(\u001b[0m\u001b[0mself\u001b[0m\u001b[0;34m)\u001b[0m\u001b[0;34m:\u001b[0m\u001b[0;34m\u001b[0m\u001b[0;34m\u001b[0m\u001b[0m\n\u001b[1;32m    285\u001b[0m         \u001b[0mself\u001b[0m\u001b[0;34m.\u001b[0m\u001b[0m_args_adjust\u001b[0m\u001b[0;34m(\u001b[0m\u001b[0;34m)\u001b[0m\u001b[0;34m\u001b[0m\u001b[0;34m\u001b[0m\u001b[0m\n\u001b[0;32m--> 286\u001b[0;31m         \u001b[0mself\u001b[0m\u001b[0;34m.\u001b[0m\u001b[0m_compute_plot_data\u001b[0m\u001b[0;34m(\u001b[0m\u001b[0;34m)\u001b[0m\u001b[0;34m\u001b[0m\u001b[0;34m\u001b[0m\u001b[0m\n\u001b[0m\u001b[1;32m    287\u001b[0m         \u001b[0mself\u001b[0m\u001b[0;34m.\u001b[0m\u001b[0m_setup_subplots\u001b[0m\u001b[0;34m(\u001b[0m\u001b[0;34m)\u001b[0m\u001b[0;34m\u001b[0m\u001b[0;34m\u001b[0m\u001b[0m\n\u001b[1;32m    288\u001b[0m         \u001b[0mself\u001b[0m\u001b[0;34m.\u001b[0m\u001b[0m_make_plot\u001b[0m\u001b[0;34m(\u001b[0m\u001b[0;34m)\u001b[0m\u001b[0;34m\u001b[0m\u001b[0;34m\u001b[0m\u001b[0m\n",
      "\u001b[0;32m/usr/local/lib/python3.8/dist-packages/pandas/plotting/_matplotlib/core.py\u001b[0m in \u001b[0;36m_compute_plot_data\u001b[0;34m(self)\u001b[0m\n\u001b[1;32m    451\u001b[0m         \u001b[0;31m# no non-numeric frames or series allowed\u001b[0m\u001b[0;34m\u001b[0m\u001b[0;34m\u001b[0m\u001b[0;34m\u001b[0m\u001b[0m\n\u001b[1;32m    452\u001b[0m         \u001b[0;32mif\u001b[0m \u001b[0mis_empty\u001b[0m\u001b[0;34m:\u001b[0m\u001b[0;34m\u001b[0m\u001b[0;34m\u001b[0m\u001b[0m\n\u001b[0;32m--> 453\u001b[0;31m             \u001b[0;32mraise\u001b[0m \u001b[0mTypeError\u001b[0m\u001b[0;34m(\u001b[0m\u001b[0;34m\"no numeric data to plot\"\u001b[0m\u001b[0;34m)\u001b[0m\u001b[0;34m\u001b[0m\u001b[0;34m\u001b[0m\u001b[0m\n\u001b[0m\u001b[1;32m    454\u001b[0m \u001b[0;34m\u001b[0m\u001b[0m\n\u001b[1;32m    455\u001b[0m         \u001b[0mself\u001b[0m\u001b[0;34m.\u001b[0m\u001b[0mdata\u001b[0m \u001b[0;34m=\u001b[0m \u001b[0mnumeric_data\u001b[0m\u001b[0;34m.\u001b[0m\u001b[0mapply\u001b[0m\u001b[0;34m(\u001b[0m\u001b[0mself\u001b[0m\u001b[0;34m.\u001b[0m\u001b[0m_convert_to_ndarray\u001b[0m\u001b[0;34m)\u001b[0m\u001b[0;34m\u001b[0m\u001b[0;34m\u001b[0m\u001b[0m\n",
      "\u001b[0;31mTypeError\u001b[0m: no numeric data to plot"
     ]
    }
   ],
   "source": [
    "df[\"Intervalo\"].plot(kind = 'hist', x = 'Mujeres', y = 'Intervalo')"
   ]
  },
  {
   "cell_type": "markdown",
   "metadata": {},
   "source": [
    "## Gráfico de barras"
   ]
  },
  {
   "cell_type": "markdown",
   "metadata": {},
   "source": [
    "Al intentar hacer un gráfico de barras con los valores de 'Intervalo' y 'Mujeres' nos da erorr porque los datos relacionados con los grupos de edad no son numéricos y por lo tanto el gráfico no puede leerlos. A continuación intentaremos generar una gráfica de barras poniendo en relación el número de mujeres con los totales de población."
   ]
  },
  {
   "cell_type": "code",
   "execution_count": 64,
   "metadata": {},
   "outputs": [
    {
     "data": {
      "text/plain": [
       "0        4455\n",
       "1        4856\n",
       "2        5653\n",
       "3        7469\n",
       "4        9649\n",
       "        ...  \n",
       "435      1152\n",
       "436       544\n",
       "437       136\n",
       "438        32\n",
       "439    114864\n",
       "Name: Total, Length: 440, dtype: int64"
      ]
     },
     "execution_count": 64,
     "metadata": {},
     "output_type": "execute_result"
    }
   ],
   "source": [
    "df_alco['Total']"
   ]
  },
  {
   "cell_type": "code",
   "execution_count": 111,
   "metadata": {},
   "outputs": [
    {
     "data": {
      "text/html": [
       "<div>\n",
       "<style scoped>\n",
       "    .dataframe tbody tr th:only-of-type {\n",
       "        vertical-align: middle;\n",
       "    }\n",
       "\n",
       "    .dataframe tbody tr th {\n",
       "        vertical-align: top;\n",
       "    }\n",
       "\n",
       "    .dataframe thead th {\n",
       "        text-align: right;\n",
       "    }\n",
       "</style>\n",
       "<table border=\"1\" class=\"dataframe\">\n",
       "  <thead>\n",
       "    <tr style=\"text-align: right;\">\n",
       "      <th></th>\n",
       "      <th>Año</th>\n",
       "      <th>Hombres</th>\n",
       "      <th>Mujeres</th>\n",
       "      <th>Total</th>\n",
       "    </tr>\n",
       "    <tr>\n",
       "      <th>Intervalo</th>\n",
       "      <th></th>\n",
       "      <th></th>\n",
       "      <th></th>\n",
       "      <th></th>\n",
       "    </tr>\n",
       "  </thead>\n",
       "  <tbody>\n",
       "    <tr>\n",
       "      <th>0-4 años</th>\n",
       "      <td>1998</td>\n",
       "      <td>2261</td>\n",
       "      <td>2194</td>\n",
       "      <td>4455</td>\n",
       "    </tr>\n",
       "    <tr>\n",
       "      <th>5-9 años</th>\n",
       "      <td>1998</td>\n",
       "      <td>2520</td>\n",
       "      <td>2336</td>\n",
       "      <td>4856</td>\n",
       "    </tr>\n",
       "    <tr>\n",
       "      <th>10-14 años</th>\n",
       "      <td>1998</td>\n",
       "      <td>2894</td>\n",
       "      <td>2759</td>\n",
       "      <td>5653</td>\n",
       "    </tr>\n",
       "    <tr>\n",
       "      <th>15-19 años</th>\n",
       "      <td>1998</td>\n",
       "      <td>3756</td>\n",
       "      <td>3713</td>\n",
       "      <td>7469</td>\n",
       "    </tr>\n",
       "    <tr>\n",
       "      <th>20-24 años</th>\n",
       "      <td>1998</td>\n",
       "      <td>4977</td>\n",
       "      <td>4672</td>\n",
       "      <td>9649</td>\n",
       "    </tr>\n",
       "    <tr>\n",
       "      <th>...</th>\n",
       "      <td>...</td>\n",
       "      <td>...</td>\n",
       "      <td>...</td>\n",
       "      <td>...</td>\n",
       "    </tr>\n",
       "    <tr>\n",
       "      <th>85-89 años</th>\n",
       "      <td>2017</td>\n",
       "      <td>417</td>\n",
       "      <td>735</td>\n",
       "      <td>1152</td>\n",
       "    </tr>\n",
       "    <tr>\n",
       "      <th>90-94 años</th>\n",
       "      <td>2017</td>\n",
       "      <td>146</td>\n",
       "      <td>398</td>\n",
       "      <td>544</td>\n",
       "    </tr>\n",
       "    <tr>\n",
       "      <th>95-99 años</th>\n",
       "      <td>2017</td>\n",
       "      <td>22</td>\n",
       "      <td>114</td>\n",
       "      <td>136</td>\n",
       "    </tr>\n",
       "    <tr>\n",
       "      <th>Más de 100 años</th>\n",
       "      <td>2017</td>\n",
       "      <td>5</td>\n",
       "      <td>27</td>\n",
       "      <td>32</td>\n",
       "    </tr>\n",
       "    <tr>\n",
       "      <th>Total</th>\n",
       "      <td>2017</td>\n",
       "      <td>55206</td>\n",
       "      <td>59658</td>\n",
       "      <td>114864</td>\n",
       "    </tr>\n",
       "  </tbody>\n",
       "</table>\n",
       "<p>440 rows × 4 columns</p>\n",
       "</div>"
      ],
      "text/plain": [
       "                  Año  Hombres  Mujeres   Total\n",
       "Intervalo                                      \n",
       " 0-4 años        1998     2261     2194    4455\n",
       " 5-9 años        1998     2520     2336    4856\n",
       " 10-14 años      1998     2894     2759    5653\n",
       " 15-19 años      1998     3756     3713    7469\n",
       " 20-24 años      1998     4977     4672    9649\n",
       "...               ...      ...      ...     ...\n",
       "85-89 años       2017      417      735    1152\n",
       "90-94 años       2017      146      398     544\n",
       "95-99 años       2017       22      114     136\n",
       "Más de 100 años  2017        5       27      32\n",
       "Total            2017    55206    59658  114864\n",
       "\n",
       "[440 rows x 4 columns]"
      ]
     },
     "execution_count": 111,
     "metadata": {},
     "output_type": "execute_result"
    }
   ],
   "source": [
    "df_alco.set_index('Intervalo')"
   ]
  },
  {
   "cell_type": "code",
   "execution_count": 118,
   "metadata": {},
   "outputs": [
    {
     "data": {
      "text/plain": [
       "Intervalo\n",
       " 0-4 años           2194\n",
       " 5-9 años           2336\n",
       " 10-14 años         2759\n",
       " 15-19 años         3713\n",
       " 20-24 años         4672\n",
       "                   ...  \n",
       "85-89 años           735\n",
       "90-94 años           398\n",
       "95-99 años           114\n",
       "Más de 100 años       27\n",
       "Total              59658\n",
       "Name: Mujeres, Length: 440, dtype: int64"
      ]
     },
     "execution_count": 118,
     "metadata": {},
     "output_type": "execute_result"
    }
   ],
   "source": [
    "df_alco.set_index('Intervalo')['Mujeres']"
   ]
  },
  {
   "cell_type": "code",
   "execution_count": 182,
   "metadata": {},
   "outputs": [
    {
     "data": {
      "text/plain": [
       "<AxesSubplot:ylabel='Frequency'>"
      ]
     },
     "execution_count": 182,
     "metadata": {},
     "output_type": "execute_result"
    },
    {
     "data": {
      "image/png": "[encoded data removed]",
      "text/plain": [
       "<Figure size 432x288 with 1 Axes>"
      ]
     },
     "metadata": {
      "needs_background": "light"
     },
     "output_type": "display_data"
    }
   ],
   "source": [
    "df[\"Total\"].plot(kind = 'hist', x = 'Mujeres' , y='Hombres')"
   ]
  },
  {
   "cell_type": "markdown",
   "metadata": {},
   "source": [
    "En este caso hemos podido extraer un gráfico de barras, sin embargo como no se ha definido de manera concreta el rango y además, los dos valores de datos recogen números muy grandes y amplios, el resultado es cuanto menos esclarecedor. Siguiendo la definición previamente citada del INE, el resultado obtenido no es válido en tanto que no hay una variable de tipo cualitativa o discreta como tal, solo dos frecuencias determinadas a escala. Seguiremos probando."
   ]
  },
  {
   "cell_type": "markdown",
   "metadata": {},
   "source": [
    "## Cambiamos los valores"
   ]
  },
  {
   "cell_type": "markdown",
   "metadata": {},
   "source": [
    "Primero acotaremos un rango: el año 1998 que se divide en veintiún subgrupos de edades. "
   ]
  },
  {
   "cell_type": "markdown",
   "metadata": {},
   "source": [
    "El método plot de Pandas tiene un parámetro kind que nos permite cambiar el tipo de gráfico que queremos dibujar. En este caso, gracias a esta posibilidad para obtener un diagrama de barras solo tenemos que indicar que la gráfica que requerimos es de tipo \"bar\", es decir tenemos que escribir `kind='bar`"
   ]
  },
  {
   "cell_type": "markdown",
   "metadata": {},
   "source": [
    "Antes de la revisión de la práctica estábamos trabajando con cuatro columnas de datos (hombres, mujeres, total y año). Sin embargo no tenía ningún tipo de sentido ya que lo que se quería comparar era el número de hombres y mujeres en Alcobendas clasificados por grupos de edad independientes (no se requería la suma de los mismos, es decir, el valor de los totales) durante la constante del año 1998 (era un error que apareciese en la gráfica porque no aportaba ninguna información últil). "
   ]
  },
  {
   "cell_type": "code",
   "execution_count": 166,
   "metadata": {},
   "outputs": [
    {
     "data": {
      "text/plain": [
       "Index(['Año', 'Intervalo', 'Hombres', 'Mujeres', 'Total'], dtype='object')"
      ]
     },
     "execution_count": 166,
     "metadata": {},
     "output_type": "execute_result"
    }
   ],
   "source": [
    "df_alco.columns"
   ]
  },
  {
   "cell_type": "code",
   "execution_count": 167,
   "metadata": {},
   "outputs": [
    {
     "name": "stdout",
     "output_type": "stream",
     "text": [
      "                 Hombres  Mujeres\n",
      "Intervalo                        \n",
      " 0-4 años           2261     2194\n",
      " 5-9 años           2520     2336\n",
      " 10-14 años         2894     2759\n",
      " 15-19 años         3756     3713\n",
      " 20-24 años         4977     4672\n",
      "...                  ...      ...\n",
      "85-89 años           417      735\n",
      "90-94 años           146      398\n",
      "95-99 años            22      114\n",
      "Más de 100 años        5       27\n",
      "Total              55206    59658\n",
      "\n",
      "[440 rows x 2 columns]\n"
     ]
    }
   ],
   "source": [
    "print(df[['Hombres','Mujeres']])\n",
    "muestra = df[:21].copy()"
   ]
  },
  {
   "cell_type": "markdown",
   "metadata": {},
   "source": [
    "A continuación hemos acotado la muestra a nivel del número de personas `df[]`y los valores representados por medio de un doble corchete `[[]]`"
   ]
  },
  {
   "cell_type": "code",
   "execution_count": 171,
   "metadata": {},
   "outputs": [
    {
     "data": {
      "text/html": [
       "<div>\n",
       "<style scoped>\n",
       "    .dataframe tbody tr th:only-of-type {\n",
       "        vertical-align: middle;\n",
       "    }\n",
       "\n",
       "    .dataframe tbody tr th {\n",
       "        vertical-align: top;\n",
       "    }\n",
       "\n",
       "    .dataframe thead th {\n",
       "        text-align: right;\n",
       "    }\n",
       "</style>\n",
       "<table border=\"1\" class=\"dataframe\">\n",
       "  <thead>\n",
       "    <tr style=\"text-align: right;\">\n",
       "      <th></th>\n",
       "      <th>Hombres</th>\n",
       "      <th>Mujeres</th>\n",
       "    </tr>\n",
       "    <tr>\n",
       "      <th>Intervalo</th>\n",
       "      <th></th>\n",
       "      <th></th>\n",
       "    </tr>\n",
       "  </thead>\n",
       "  <tbody>\n",
       "    <tr>\n",
       "      <th>0-4 años</th>\n",
       "      <td>2261</td>\n",
       "      <td>2194</td>\n",
       "    </tr>\n",
       "    <tr>\n",
       "      <th>5-9 años</th>\n",
       "      <td>2520</td>\n",
       "      <td>2336</td>\n",
       "    </tr>\n",
       "    <tr>\n",
       "      <th>10-14 años</th>\n",
       "      <td>2894</td>\n",
       "      <td>2759</td>\n",
       "    </tr>\n",
       "    <tr>\n",
       "      <th>15-19 años</th>\n",
       "      <td>3756</td>\n",
       "      <td>3713</td>\n",
       "    </tr>\n",
       "    <tr>\n",
       "      <th>20-24 años</th>\n",
       "      <td>4977</td>\n",
       "      <td>4672</td>\n",
       "    </tr>\n",
       "    <tr>\n",
       "      <th>25-29 años</th>\n",
       "      <td>4007</td>\n",
       "      <td>3983</td>\n",
       "    </tr>\n",
       "    <tr>\n",
       "      <th>30-34 años</th>\n",
       "      <td>3502</td>\n",
       "      <td>3750</td>\n",
       "    </tr>\n",
       "    <tr>\n",
       "      <th>35-39 años</th>\n",
       "      <td>3196</td>\n",
       "      <td>3382</td>\n",
       "    </tr>\n",
       "    <tr>\n",
       "      <th>40-44 años</th>\n",
       "      <td>2749</td>\n",
       "      <td>3289</td>\n",
       "    </tr>\n",
       "    <tr>\n",
       "      <th>45-49 años</th>\n",
       "      <td>3303</td>\n",
       "      <td>3752</td>\n",
       "    </tr>\n",
       "    <tr>\n",
       "      <th>50-54 años</th>\n",
       "      <td>3352</td>\n",
       "      <td>3205</td>\n",
       "    </tr>\n",
       "    <tr>\n",
       "      <th>55-59 años</th>\n",
       "      <td>2110</td>\n",
       "      <td>1843</td>\n",
       "    </tr>\n",
       "    <tr>\n",
       "      <th>60-64 años</th>\n",
       "      <td>1437</td>\n",
       "      <td>1444</td>\n",
       "    </tr>\n",
       "    <tr>\n",
       "      <th>65-69 años</th>\n",
       "      <td>1018</td>\n",
       "      <td>1098</td>\n",
       "    </tr>\n",
       "    <tr>\n",
       "      <th>70-74 años</th>\n",
       "      <td>664</td>\n",
       "      <td>893</td>\n",
       "    </tr>\n",
       "    <tr>\n",
       "      <th>75-79 años</th>\n",
       "      <td>386</td>\n",
       "      <td>627</td>\n",
       "    </tr>\n",
       "    <tr>\n",
       "      <th>80-84 años</th>\n",
       "      <td>193</td>\n",
       "      <td>443</td>\n",
       "    </tr>\n",
       "    <tr>\n",
       "      <th>85-89 años</th>\n",
       "      <td>93</td>\n",
       "      <td>218</td>\n",
       "    </tr>\n",
       "    <tr>\n",
       "      <th>90-94 años</th>\n",
       "      <td>33</td>\n",
       "      <td>80</td>\n",
       "    </tr>\n",
       "    <tr>\n",
       "      <th>95-99 años</th>\n",
       "      <td>4</td>\n",
       "      <td>9</td>\n",
       "    </tr>\n",
       "    <tr>\n",
       "      <th>más de 100 años</th>\n",
       "      <td>0</td>\n",
       "      <td>1</td>\n",
       "    </tr>\n",
       "  </tbody>\n",
       "</table>\n",
       "</div>"
      ],
      "text/plain": [
       "                  Hombres  Mujeres\n",
       "Intervalo                         \n",
       " 0-4 años            2261     2194\n",
       " 5-9 años            2520     2336\n",
       " 10-14 años          2894     2759\n",
       " 15-19 años          3756     3713\n",
       " 20-24 años          4977     4672\n",
       " 25-29 años          4007     3983\n",
       " 30-34 años          3502     3750\n",
       " 35-39 años          3196     3382\n",
       " 40-44 años          2749     3289\n",
       " 45-49 años          3303     3752\n",
       " 50-54 años          3352     3205\n",
       " 55-59 años          2110     1843\n",
       " 60-64 años          1437     1444\n",
       " 65-69 años          1018     1098\n",
       " 70-74 años           664      893\n",
       " 75-79 años           386      627\n",
       " 80-84 años           193      443\n",
       " 85-89 años            93      218\n",
       " 90-94 años            33       80\n",
       " 95-99 años             4        9\n",
       " más de 100 años        0        1"
      ]
     },
     "execution_count": 171,
     "metadata": {},
     "output_type": "execute_result"
    }
   ],
   "source": [
    "\n",
    "import matplotlib.pyplot as plt\n",
    "%matplotlib inline\n",
    "\n",
    "\n",
    "muestra = df[:21][['Hombres','Mujeres']]\n",
    "muestra"
   ]
  },
  {
   "cell_type": "markdown",
   "metadata": {},
   "source": [
    "Una vez acotado los grupos de datos, nos disponemos a representarlos a través de diferentes gráficas. La primera será un gráfico de líneas que nos permite estudiar a simple vista la evolución del número de hombres y mujeres según cada grupo de edad."
   ]
  },
  {
   "cell_type": "code",
   "execution_count": 173,
   "metadata": {},
   "outputs": [
    {
     "data": {
      "text/plain": [
       "<AxesSubplot:title={'center':'1998'}, xlabel='Intervalo'>"
      ]
     },
     "execution_count": 173,
     "metadata": {},
     "output_type": "execute_result"
    },
    {
     "data": {
      "image/png": "[encoded data removed]",
      "text/plain": [
       "<Figure size 432x288 with 1 Axes>"
      ]
     },
     "metadata": {
      "needs_background": "light"
     },
     "output_type": "display_data"
    }
   ],
   "source": [
    "muestra.plot(title='1998')"
   ]
  },
  {
   "cell_type": "code",
   "execution_count": 187,
   "metadata": {},
   "outputs": [
    {
     "data": {
      "text/plain": [
       "<AxesSubplot:xlabel='Intervalo'>"
      ]
     },
     "execution_count": 187,
     "metadata": {},
     "output_type": "execute_result"
    },
    {
     "data": {
      "image/png": "[encoded data removed]",
      "text/plain": [
       "<Figure size 432x288 with 1 Axes>"
      ]
     },
     "metadata": {
      "needs_background": "light"
     },
     "output_type": "display_data"
    }
   ],
   "source": [
    "muestra.plot(kind = 'bar')\n"
   ]
  },
  {
   "cell_type": "markdown",
   "metadata": {},
   "source": [
    "Se ha generado un gráfico de barras con el total de población por grupos de edad como eje de las x y dos barras (naranja:mujeres, azul:hombres). "
   ]
  },
  {
   "cell_type": "code",
   "execution_count": 181,
   "metadata": {},
   "outputs": [
    {
     "data": {
      "image/png": "[encoded data removed]",
      "text/plain": [
       "<Figure size 432x288 with 1 Axes>"
      ]
     },
     "metadata": {
      "needs_background": "light"
     },
     "output_type": "display_data"
    }
   ],
   "source": [
    "muestra.plot(kind = 'bar');\n",
    "muestra1998 = [('Hombres') , ('Mujeres')]"
   ]
  },
  {
   "cell_type": "markdown",
   "metadata": {},
   "source": [
    "Cada vez que dibujamos un gráfico nos aparece un texto que acredita que se ha ejecutado la última instrucción ejecutada. Para que no se reitere continúamente adjuntaremos un punto y una coma `(;)`al final de la instrucción"
   ]
  },
  {
   "cell_type": "markdown",
   "metadata": {},
   "source": [
    "El resultado es que cada barra representa el valor de una columna del DataFrame. "
   ]
  },
  {
   "cell_type": "markdown",
   "metadata": {},
   "source": [
    "Podemos alterar la dirección de las barras de vertical a horizontal sustituyendo bar por barh (h de horizontal). Es decir, la fórmula sería `kind = 'barh'`) "
   ]
  },
  {
   "cell_type": "markdown",
   "metadata": {},
   "source": [
    "### Gráfico de barras horizontales"
   ]
  },
  {
   "cell_type": "code",
   "execution_count": 176,
   "metadata": {},
   "outputs": [
    {
     "data": {
      "image/png": "[encoded data removed]",
      "text/plain": [
       "<Figure size 432x288 with 1 Axes>"
      ]
     },
     "metadata": {
      "needs_background": "light"
     },
     "output_type": "display_data"
    }
   ],
   "source": [
    "muestra.plot(kind = 'barh');"
   ]
  },
  {
   "cell_type": "markdown",
   "metadata": {},
   "source": [
    "El grosor de las barras se establece de manera automática, podemos modificarlas paras hacerlas más accesibles a nivel visual con el parámetro `width`, que nos permite oscilar entre 0 y 1. Por defecto la función establece un grosor de 0.5. Vamos a mostrar las barrar con su máximo de grosor y con 0.2."
   ]
  },
  {
   "cell_type": "code",
   "execution_count": 177,
   "metadata": {},
   "outputs": [
    {
     "data": {
      "text/plain": [
       "<AxesSubplot:ylabel='Intervalo'>"
      ]
     },
     "execution_count": 177,
     "metadata": {},
     "output_type": "execute_result"
    },
    {
     "data": {
      "image/png": "[encoded data removed]",
      "text/plain": [
       "<Figure size 432x288 with 1 Axes>"
      ]
     },
     "metadata": {
      "needs_background": "light"
     },
     "output_type": "display_data"
    }
   ],
   "source": [
    "muestra.plot(kind = 'barh', width=1)"
   ]
  },
  {
   "cell_type": "code",
   "execution_count": 178,
   "metadata": {},
   "outputs": [
    {
     "data": {
      "text/plain": [
       "<AxesSubplot:ylabel='Intervalo'>"
      ]
     },
     "execution_count": 178,
     "metadata": {},
     "output_type": "execute_result"
    },
    {
     "data": {
      "image/png": "[encoded data removed]",
      "text/plain": [
       "<Figure size 432x288 with 1 Axes>"
      ]
     },
     "metadata": {
      "needs_background": "light"
     },
     "output_type": "display_data"
    }
   ],
   "source": [
    "muestra.plot(kind = 'barh', width=0.2)"
   ]
  },
  {
   "cell_type": "markdown",
   "metadata": {},
   "source": [
    "### Gráfico de barras apiladas"
   ]
  },
  {
   "cell_type": "markdown",
   "metadata": {},
   "source": [
    "Por medio del parámetreo stacked podemos generar gráficos de barras apiladas. Entre sus opciones de diseño podemos establecer cierto nivel de transparencia a los colores de las barras."
   ]
  },
  {
   "cell_type": "code",
   "execution_count": 179,
   "metadata": {
    "scrolled": true
   },
   "outputs": [
    {
     "data": {
      "image/png": "[encoded data removed]",
      "text/plain": [
       "<Figure size 648x288 with 1 Axes>"
      ]
     },
     "metadata": {
      "needs_background": "light"
     },
     "output_type": "display_data"
    }
   ],
   "source": [
    "muestra.plot(kind = 'bar', \n",
    "             stacked = 'True',\n",
    "             alpha = 0.4,\n",
    "             width = 0.9, \n",
    "             figsize=(9,4));"
   ]
  },
  {
   "cell_type": "markdown",
   "metadata": {},
   "source": [
    "Este tipo de gráfico también es interesante porque es muy visual permitiéndonos discernir los datos y hacer comparativas rápidamente."
   ]
  },
  {
   "cell_type": "markdown",
   "metadata": {},
   "source": [
    "### Gráfico de barras separados"
   ]
  },
  {
   "cell_type": "code",
   "execution_count": 180,
   "metadata": {},
   "outputs": [
    {
     "data": {
      "image/png": "[encoded data removed]",
      "text/plain": [
       "<Figure size 720x1440 with 2 Axes>"
      ]
     },
     "metadata": {
      "needs_background": "light"
     },
     "output_type": "display_data"
    }
   ],
   "source": [
    "muestra.plot(kind = 'bar',\n",
    "             width=0.8,\n",
    "             subplots=True,\n",
    "             figsize=(10,20));"
   ]
  },
  {
   "cell_type": "markdown",
   "metadata": {},
   "source": [
    "## "
   ]
  }
 ],
 "metadata": {
  "kernelspec": {
   "display_name": "Python 3",
   "language": "python",
   "name": "python3"
  },
  "language_info": {
   "codemirror_mode": {
    "name": "ipython",
    "version": 3
   },
   "file_extension": ".py",
   "mimetype": "text/x-python",
   "name": "python",
   "nbconvert_exporter": "python",
   "pygments_lexer": "ipython3",
   "version": "3.8.10"
  }
 },
 "nbformat": 4,
 "nbformat_minor": 4
}
