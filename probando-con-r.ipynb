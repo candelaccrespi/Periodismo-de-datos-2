{
 "cells": [
  {
   "cell_type": "markdown",
   "metadata": {},
   "source": [
    "# Probando con R"
   ]
  },
  {
   "cell_type": "markdown",
   "metadata": {},
   "source": [
    "Con la herramienta Jupyter Notebook probaremos en esta práctia el lenguaje de programación R. Uno de los más utilizados en el mundo de la estadística y la aplicación de gráficas."
   ]
  },
  {
   "cell_type": "markdown",
   "metadata": {},
   "source": [
    "## Instalar librerías"
   ]
  },
  {
   "cell_type": "markdown",
   "metadata": {},
   "source": [
    "Las librerías permiten desarrollar más de un lenjguaje de programación, en esta práctica nos centramos el lenguaje R. Para instalar las librerías debemos utilizar el siguiente código: \n",
    " install.packages(\"ggplot2\")"
   ]
  },
  {
   "cell_type": "code",
   "execution_count": 1,
   "metadata": {},
   "outputs": [
    {
     "name": "stderr",
     "output_type": "stream",
     "text": [
      "Installing package into ‘/usr/local/lib/R/site-library’\n",
      "(as ‘lib’ is unspecified)\n",
      "\n",
      "Warning message in install.packages(\"library(ggplot2\"):\n",
      "“'lib = \"/usr/local/lib/R/site-library\"' is not writable”\n"
     ]
    },
    {
     "ename": "ERROR",
     "evalue": "Error in install.packages(\"library(ggplot2\"): unable to install packages\n",
     "output_type": "error",
     "traceback": [
      "Error in install.packages(\"library(ggplot2\"): unable to install packages\nTraceback:\n",
      "1. install.packages(\"library(ggplot2\")",
      "2. stop(\"unable to install packages\")"
     ]
    }
   ],
   "source": [
    "install.packages(\"library(ggplot2\")"
   ]
  },
  {
   "cell_type": "markdown",
   "metadata": {},
   "source": [
    "En clase no se pudo llevar a cabo esta función. La instalación del paquete \"ggplot2\" se realiza a través de la función R. El paquete ggplot es un sistema para crear gráficos de forma declaratica basándose en la gramática de los datos. A la aplicación se le proporcionan ciertos datos, se le asigna una estética a las variables elegidas, qué primitivas gráficas utilizar y a partir de entonces ggplot2 hace el resto de la tarea. \n"
   ]
  },
  {
   "cell_type": "markdown",
   "metadata": {},
   "source": [
    "## Importar librerías"
   ]
  },
  {
   "cell_type": "markdown",
   "metadata": {},
   "source": [
    "Una vez que se haya instalado el paquete hay que cargarlo para poder usas sus funciones o información. Para importar liberías en este notebook se utilza la función library()."
   ]
  },
  {
   "cell_type": "code",
   "execution_count": 2,
   "metadata": {},
   "outputs": [],
   "source": [
    "library(ggplot2)"
   ]
  },
  {
   "cell_type": "markdown",
   "metadata": {},
   "source": [
    "## Create Dataset "
   ]
  },
  {
   "cell_type": "markdown",
   "metadata": {},
   "source": [
    "Para cumplir con este apartado es necesario seleccionar los datos que queremos que sean representados. El profesor nos ha ofrecido un código (ggplot) ya creado con anterioridad sobre los niveles de artillería en el conflicto armado entre Rusia y Ucrania (aeronaves, artillería baja y tanques). Para poder generar el gráfico se ha modificado la nomemclatura y los valores. Con la instrucción rep(x,r) se genera una lista de r valores todos iguales a x. Con la instrucción abs escogemos el valor absoluto de ciertos números (para llegar al value). Para crear un data frame usamos la función data.frame(). Esta función nos pedirá un número de vectores igual al número de columnas que deseemos. Todos los vectores deben presentar el mismo largo. "
   ]
  },
  {
   "cell_type": "code",
   "execution_count": 2,
   "metadata": {},
   "outputs": [],
   "source": [
    "# create a dataset\n",
    "bajas <- c(rep(\"Tanques\" , 2) , rep(\"Artillería\" , 2) , rep(\"Aeronaves\" , 2))\n",
    "paises <- rep(c(\"Rusia\" , \"Ucrania\") , 3)\n",
    "value <- abs(rnorm(12, 0 , 15))\n",
    "data <- data.frame(bajas,paises,value)\n",
    "\n",
    "# Grouped\n",
    "ggplot(data, aes(fill=paises, y=value, x=bajas)) + \n",
    "    geom_bar(position=\"dodge\", stat=\"identity\")\n"
   ]
  },
  {
   "attachments": {
    "transferir.png": {
     "image/png": "[encoded data removed]"
    }
   },
   "cell_type": "markdown",
   "metadata": {},
   "source": [
    "![Grafico](attachment:transferir.png)"
   ]
  },
  {
   "cell_type": "markdown",
   "metadata": {},
   "source": [
    "Con \"create a dataset\" lo que se hace es crear un fichero de datos que seleccione las variabes que a nosotros nos interesan. Con ggplot lo que conseguimos es agrupar estos datos en un gráfico para poder visualizarlos y analizarlos de manera más clara. "
   ]
  },
  {
   "cell_type": "markdown",
   "metadata": {},
   "source": [
    "Tal y como compruebo revisando diferentes ejercicios de compañeras, a pesar de que se utilicen los mismos datos los gráficos obtenidos son diferentes. Esta situación generó múltiples dudas entre las personas de la clases. La respuesta está relacionada con la función utilizada para generar los valores de nuestra variable, la función \"rnorm\" que genera n números aleatorios en función de una distribución normal. Para solventar este problema y que todas  las asistentes tuvieran la misma gráfica, se cambió de función a \"set.seed(n)\" que fija una semilla (seed) a partir de la que se generan los números aleatorios (como fueron escogido se eligieron los mismos para tener el mismo gráfico). "
   ]
  }
 ],
 "metadata": {
  "kernelspec": {
   "display_name": "R",
   "language": "R",
   "name": "ir"
  },
  "language_info": {
   "codemirror_mode": "r",
   "file_extension": ".r",
   "mimetype": "text/x-r-source",
   "name": "R",
   "pygments_lexer": "r",
   "version": "4.1.0"
  }
 },
 "nbformat": 4,
 "nbformat_minor": 4
}
